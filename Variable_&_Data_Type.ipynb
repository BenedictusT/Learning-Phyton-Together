{
  "nbformat": 4,
  "nbformat_minor": 0,
  "metadata": {
    "colab": {
      "name": "Variable & Data Type.ipynb",
      "provenance": [],
      "collapsed_sections": [],
      "authorship_tag": "ABX9TyODv36WxrlLPXtGWD5HNd2r",
      "include_colab_link": true
    },
    "kernelspec": {
      "name": "python3",
      "display_name": "Python 3"
    },
    "language_info": {
      "name": "python"
    }
  },
  "cells": [
    {
      "cell_type": "markdown",
      "metadata": {
        "id": "view-in-github",
        "colab_type": "text"
      },
      "source": [
        "<a href=\"https://colab.research.google.com/github/BenedictusT/Learning-Phyton-Together/blob/main/Variable_%26_Data_Type.ipynb\" target=\"_parent\"><img src=\"https://colab.research.google.com/assets/colab-badge.svg\" alt=\"Open In Colab\"/></a>"
      ]
    },
    {
      "cell_type": "markdown",
      "source": [
        "Print hello world"
      ],
      "metadata": {
        "id": "XM_F_3hwKVOw"
      }
    },
    {
      "cell_type": "code",
      "execution_count": 2,
      "metadata": {
        "colab": {
          "base_uri": "https://localhost:8080/"
        },
        "id": "UyLWYaIpGKJq",
        "outputId": "d22de920-4d48-486d-d26b-7c6b01257a51"
      },
      "outputs": [
        {
          "output_type": "stream",
          "name": "stdout",
          "text": [
            "hello world\n"
          ]
        }
      ],
      "source": [
        "print(\"hello world\")\n"
      ]
    },
    {
      "cell_type": "markdown",
      "source": [
        "Variable"
      ],
      "metadata": {
        "id": "VNQY73xHKnQg"
      }
    },
    {
      "cell_type": "code",
      "source": [
        "tinggi = 1.4"
      ],
      "metadata": {
        "id": "rFSX6f2_H7ht"
      },
      "execution_count": 5,
      "outputs": []
    },
    {
      "cell_type": "code",
      "source": [
        "berat = 50"
      ],
      "metadata": {
        "id": "9rbTkHrGIxyA"
      },
      "execution_count": 6,
      "outputs": []
    },
    {
      "cell_type": "code",
      "source": [
        "tinggi"
      ],
      "metadata": {
        "colab": {
          "base_uri": "https://localhost:8080/"
        },
        "id": "w8mrtqpkI_Ie",
        "outputId": "ce020818-d616-425a-c632-f29f3dcad6f8"
      },
      "execution_count": 7,
      "outputs": [
        {
          "output_type": "execute_result",
          "data": {
            "text/plain": [
              "1.4"
            ]
          },
          "metadata": {},
          "execution_count": 7
        }
      ]
    },
    {
      "cell_type": "code",
      "source": [
        "berat"
      ],
      "metadata": {
        "colab": {
          "base_uri": "https://localhost:8080/"
        },
        "id": "19b2gfTWJXnF",
        "outputId": "bc1cc246-bea2-4183-f71c-dd630bcc229f"
      },
      "execution_count": 10,
      "outputs": [
        {
          "output_type": "execute_result",
          "data": {
            "text/plain": [
              "50"
            ]
          },
          "metadata": {},
          "execution_count": 10
        }
      ]
    },
    {
      "cell_type": "markdown",
      "source": [
        "Basic operator"
      ],
      "metadata": {
        "id": "us4CfMcpKtwU"
      }
    },
    {
      "cell_type": "code",
      "source": [
        "print (5+10)"
      ],
      "metadata": {
        "colab": {
          "base_uri": "https://localhost:8080/"
        },
        "id": "SgfmikKlKIz9",
        "outputId": "2f89a82f-a831-445a-ff7a-95176d847875"
      },
      "execution_count": 11,
      "outputs": [
        {
          "output_type": "stream",
          "name": "stdout",
          "text": [
            "15\n"
          ]
        }
      ]
    },
    {
      "cell_type": "code",
      "source": [
        "print(5-5)"
      ],
      "metadata": {
        "colab": {
          "base_uri": "https://localhost:8080/"
        },
        "id": "fqaMYg4pKyCc",
        "outputId": "744c7ed2-ee25-4f81-8cdb-0641d516839e"
      },
      "execution_count": 12,
      "outputs": [
        {
          "output_type": "stream",
          "name": "stdout",
          "text": [
            "0\n"
          ]
        }
      ]
    },
    {
      "cell_type": "code",
      "source": [
        "a = 5"
      ],
      "metadata": {
        "id": "x3TUgxJyK2Zs"
      },
      "execution_count": 13,
      "outputs": []
    },
    {
      "cell_type": "code",
      "source": [
        "b = 10"
      ],
      "metadata": {
        "id": "F8oR0T91K41W"
      },
      "execution_count": 14,
      "outputs": []
    },
    {
      "cell_type": "code",
      "source": [
        "print(a+b)"
      ],
      "metadata": {
        "colab": {
          "base_uri": "https://localhost:8080/"
        },
        "id": "SDOVtS9AK7D3",
        "outputId": "cbedf1f5-532c-4684-b6f8-a36d6d2baa1a"
      },
      "execution_count": 15,
      "outputs": [
        {
          "output_type": "stream",
          "name": "stdout",
          "text": [
            "15\n"
          ]
        }
      ]
    },
    {
      "cell_type": "code",
      "source": [
        "print(a-a)"
      ],
      "metadata": {
        "colab": {
          "base_uri": "https://localhost:8080/"
        },
        "id": "RPQLkmleK_nt",
        "outputId": "1f256fd0-8d50-494b-d3be-7e04b9cb79b4"
      },
      "execution_count": 16,
      "outputs": [
        {
          "output_type": "stream",
          "name": "stdout",
          "text": [
            "0\n"
          ]
        }
      ]
    },
    {
      "cell_type": "markdown",
      "source": [
        "Hitunglah luas persegi panjang dengan panjang 10 & lebar 6"
      ],
      "metadata": {
        "id": "6GBmpoRuLfQd"
      }
    },
    {
      "cell_type": "code",
      "source": [
        "panjang = 10"
      ],
      "metadata": {
        "id": "0lPBJRIULmwc"
      },
      "execution_count": 17,
      "outputs": []
    },
    {
      "cell_type": "code",
      "source": [
        "lebar = 6"
      ],
      "metadata": {
        "id": "79M8mBuHLouA"
      },
      "execution_count": 18,
      "outputs": []
    },
    {
      "cell_type": "code",
      "source": [
        "luas_persegi_panjang = panjang*lebar"
      ],
      "metadata": {
        "id": "nyoPXp8QLqgT"
      },
      "execution_count": 20,
      "outputs": []
    },
    {
      "cell_type": "code",
      "source": [
        "print(luas_persegi_panjang)"
      ],
      "metadata": {
        "colab": {
          "base_uri": "https://localhost:8080/"
        },
        "id": "2erDEvb2MDk8",
        "outputId": "a9774728-ee90-4cbb-f09a-021857034090"
      },
      "execution_count": 21,
      "outputs": [
        {
          "output_type": "stream",
          "name": "stdout",
          "text": [
            "60\n"
          ]
        }
      ]
    },
    {
      "cell_type": "markdown",
      "source": [
        "Data type"
      ],
      "metadata": {
        "id": "jErIRC5zNYoy"
      }
    },
    {
      "cell_type": "code",
      "source": [
        "type(tinggi)"
      ],
      "metadata": {
        "colab": {
          "base_uri": "https://localhost:8080/"
        },
        "id": "AnuvnYHsNaCx",
        "outputId": "f1ea5f0a-2540-453c-fa02-33b512fce55e"
      },
      "execution_count": 22,
      "outputs": [
        {
          "output_type": "execute_result",
          "data": {
            "text/plain": [
              "float"
            ]
          },
          "metadata": {},
          "execution_count": 22
        }
      ]
    },
    {
      "cell_type": "code",
      "source": [
        "type(berat)"
      ],
      "metadata": {
        "colab": {
          "base_uri": "https://localhost:8080/"
        },
        "id": "e8e9L5lONfMb",
        "outputId": "2193788e-4c39-4e21-ca1d-29f71eb41a48"
      },
      "execution_count": 23,
      "outputs": [
        {
          "output_type": "execute_result",
          "data": {
            "text/plain": [
              "int"
            ]
          },
          "metadata": {},
          "execution_count": 23
        }
      ]
    },
    {
      "cell_type": "markdown",
      "source": [
        "Aku punya uang 100.000 taktaruh bank selama 5 tahun, bunganya 10% per tahun, berapa uangku sekarang?"
      ],
      "metadata": {
        "id": "AaKCwQKfOzRt"
      }
    },
    {
      "cell_type": "code",
      "source": [
        "uang = 100000\n",
        "bunga = 0.1\n",
        "periode = 5"
      ],
      "metadata": {
        "id": "YKuTyifCPBSp"
      },
      "execution_count": 25,
      "outputs": []
    },
    {
      "cell_type": "code",
      "source": [
        "uangku = uang*(1+bunga/5)**(5*5)"
      ],
      "metadata": {
        "id": "ROrB4zoeP4Uh"
      },
      "execution_count": 29,
      "outputs": []
    },
    {
      "cell_type": "code",
      "source": [
        "print(uangku)"
      ],
      "metadata": {
        "colab": {
          "base_uri": "https://localhost:8080/"
        },
        "id": "4Z9YDqPoSi9u",
        "outputId": "36c0ad78-ad86-4dd9-b774-c8141b3f8a3e"
      },
      "execution_count": 30,
      "outputs": [
        {
          "output_type": "stream",
          "name": "stdout",
          "text": [
            "164060.59944647306\n"
          ]
        }
      ]
    },
    {
      "cell_type": "markdown",
      "source": [
        "Sebuah bola menggelinding ke bawah dari suatu bidang miring dengan percepatan tetap 3,4 m/s2. Jika bola bergerak dengan kecepatan awal 3 m/s, tentukan kecepatan bola setelah bergerak selama 5 detik! v = vo + a t"
      ],
      "metadata": {
        "id": "w2aLMMx4TeSB"
      }
    },
    {
      "cell_type": "code",
      "source": [
        "a = 3.4\n",
        "vo = 3\n",
        "t = 5"
      ],
      "metadata": {
        "id": "sR-lkyWATf3l"
      },
      "execution_count": 31,
      "outputs": []
    },
    {
      "cell_type": "code",
      "source": [
        "v = vo+(a*t)"
      ],
      "metadata": {
        "id": "MF2T9uPVTweE"
      },
      "execution_count": 32,
      "outputs": []
    },
    {
      "cell_type": "code",
      "source": [
        "print(v)"
      ],
      "metadata": {
        "colab": {
          "base_uri": "https://localhost:8080/"
        },
        "id": "ojg-jIykT1VG",
        "outputId": "44f732ea-211c-49a0-ead6-ed45c33df1bb"
      },
      "execution_count": 33,
      "outputs": [
        {
          "output_type": "stream",
          "name": "stdout",
          "text": [
            "20.0\n"
          ]
        }
      ]
    },
    {
      "cell_type": "code",
      "source": [
        "print(\"kecepatan bola adalah : \" + str(v) + \" m/s\")"
      ],
      "metadata": {
        "colab": {
          "base_uri": "https://localhost:8080/"
        },
        "id": "fOWl0TvqUTUA",
        "outputId": "a2f50990-dfc7-4cfe-d832-ce563b47fcc8"
      },
      "execution_count": 38,
      "outputs": [
        {
          "output_type": "stream",
          "name": "stdout",
          "text": [
            "kecepatan bola adalah : 20.0 m/s\n"
          ]
        }
      ]
    }
  ]
}